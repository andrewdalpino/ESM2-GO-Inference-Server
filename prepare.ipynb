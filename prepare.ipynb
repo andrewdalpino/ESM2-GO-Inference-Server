{
 "cells": [
  {
   "cell_type": "code",
   "execution_count": null,
   "id": "40ede44d",
   "metadata": {},
   "outputs": [],
   "source": [
    "tsv_file = \"dataset/train_terms.tsv\"\n",
    "\n",
    "tsv_data = {}\n",
    "\n",
    "with open(tsv_file, 'r') as file:\n",
    "    for line in file:\n",
    "        parts = line.strip().split(\"\\t\")\n",
    "\n",
    "        tsv_data[parts[0]] = parts[1:]\n",
    "\n",
    "unique_terms = list(set(term for terms in tsv_data.values() for term in terms))\n",
    "\n",
    "print(\"Unique terms:\")\n",
    "for term in unique_terms:\n",
    "    print(term)"
   ]
  }
 ],
 "metadata": {
  "kernelspec": {
   "display_name": ".venv",
   "language": "python",
   "name": "python3"
  },
  "language_info": {
   "name": "python",
   "version": "3.12.3"
  }
 },
 "nbformat": 4,
 "nbformat_minor": 5
}
